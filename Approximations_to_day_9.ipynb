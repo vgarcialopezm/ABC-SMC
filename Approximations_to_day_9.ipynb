{
  "nbformat": 4,
  "nbformat_minor": 0,
  "metadata": {
    "colab": {
      "name": "Approximations to day 9.ipynb",
      "provenance": [],
      "authorship_tag": "ABX9TyO7Hrpm9lGBg/X9NL49NpWX",
      "include_colab_link": true
    },
    "kernelspec": {
      "name": "python3",
      "display_name": "Python 3"
    },
    "language_info": {
      "name": "python"
    }
  },
  "cells": [
    {
      "cell_type": "markdown",
      "metadata": {
        "id": "view-in-github",
        "colab_type": "text"
      },
      "source": [
        "<a href=\"https://colab.research.google.com/github/vgarcialopezm/ABC-SMC/blob/main/Approximations_to_day_9.ipynb\" target=\"_parent\"><img src=\"https://colab.research.google.com/assets/colab-badge.svg\" alt=\"Open In Colab\"/></a>"
      ]
    },
    {
      "cell_type": "code",
      "execution_count": 1,
      "metadata": {
        "id": "rlE-ngJs1E8-"
      },
      "outputs": [],
      "source": [
        "import numpy as np\n",
        "from scipy.stats import norm, uniform, multivariate_normal\n",
        "from scipy.optimize import minimize\n",
        "from scipy.special import logsumexp\n",
        "import sys,ast\n",
        "from math import exp\n",
        "from math import log\n",
        "from random import choices,seed,random\n",
        "from tqdm import tqdm\n",
        "#import p_tqdm\n",
        "from functools import partial\n",
        "import os\n",
        "import matplotlib.pyplot as plt\n",
        "from numpy import exp"
      ]
    },
    {
      "cell_type": "code",
      "source": [
        "datos = np.loadtxt('doblaredia3.txt', delimiter=',')\n",
        "datos6=np.loadtxt('datosdia6.txt', delimiter=',')\n",
        "datosdia9=np.loadtxt('datosdia9.txt', delimiter=',')\n",
        "print(datosdia9)"
      ],
      "metadata": {
        "colab": {
          "base_uri": "https://localhost:8080/"
        },
        "id": "C0DwRHg21O5D",
        "outputId": "9bf0e7be-9208-41d6-9e7f-db551254957c"
      },
      "execution_count": 19,
      "outputs": [
        {
          "output_type": "stream",
          "name": "stdout",
          "text": [
            "[  5.7179   8.7232   8.7232   8.7232   8.7232   8.7232   8.7232   8.7232\n",
            "   8.7232   8.7232   9.3191   9.5524  10.252   11.133   11.211   11.211\n",
            "  11.211   11.211   11.211   11.211   11.211   11.211   11.211   11.211\n",
            "  11.211   11.211   11.211   11.858   12.739   12.869   12.869   12.894\n",
            "  13.698   13.827   14.527   14.295   13.698   13.698   14.474   15.357\n",
            "  15.357   15.357   15.357   15.357   15.357   15.357   16.961   17.015\n",
            "  17.015   17.015   17.195   17.612   17.299   18.18    19.061   19.503\n",
            "  19.503   20.589   21.756   21.343   21.161   21.161   21.161   21.185\n",
            "  21.99    21.99    22.35    23.648   23.648   23.648   23.648   23.648\n",
            "  23.648   23.648   23.648   24.941   25.307   26.057   26.136   26.136\n",
            "  26.06    25.562   27.145   28.026   29.19    28.942   26.965   27.842\n",
            "  28.623   30.25    32.101   32.062   31.242   30.362   30.282   30.282\n",
            "  30.509   32.642   33.016   37.377   38.574   38.574   38.187   37.306\n",
            "  37.895   38.574   37.98    37.099   38.31    39.572   40.213   39.806\n",
            "  39.478   40.359   40.882   40.232   40.656   41.977   43.492   46.13\n",
            "  48.674   46.916   43.545   42.074   41.89    41.141   43.463   41.937\n",
            "  43.549   43.802   45.207   45.207   44.643   43.549   45.091   47.595\n",
            "  49.063   48.908   47.931   47.694   49.088   48.604   49.59    52.692\n",
            "  53.598   55.448   59.775   58.474   59.037   60.466   61.347   62.665\n",
            "  64.101   65.456   69.492   72.071   72.543   70.325   70.615   70.62\n",
            "  69.711   65.81    65.107   65.337   67.344   71.015   74.792   80.797\n",
            "  85.889   91.787   97.386   99.655  101.32   100.59    99.153   96.542\n",
            "  94.2     98.376  102.48   107.34   112.95   118.69   125.46   131.51\n",
            " 138.09   143.26   148.26   152.9    157.31   159.97   157.52  ]\n"
          ]
        }
      ]
    },
    {
      "cell_type": "code",
      "source": [
        "taup=4800   #*deltat  #*deltat\n",
        "beta1=2.5\n",
        "a3H0=0.0085\n",
        "d1=0.2\n",
        "a0=0.45185\n",
        "a1=0.51\n",
        "a2=1\n",
        "d2=0.1\n",
        "e2f=1\n",
        "#am=22446.951\n",
        "beta=0.4980\n",
        "#value of p6/p3 set to 1\n",
        "p6p3=1\n",
        "#c critico\n",
        "# Calculate the value of c_cr using the parameters above and the expression given in the document\n",
        "#ccr=1-1/beta1*np.log(1/a3H0*(a1+(a2*d2/d1*e2f)*(1-1/(1-a0))))\n",
        "ccr=1.0-((1.0/beta1)*np.log((1/a3H0)*(a1+((a2*d2)/(d1*e2f))*(1-1/(1-a0/((p6p3)*(p6p3)))))));\n",
        "#Calculate a(G1/S) using the parameter values above\n",
        "# aG1S=am*(c/ccr-1)**(-beta)\n",
        "#aG1S=2e+04\n",
        "nu=0.00001097\n",
        "\n",
        "#Let's apply Newton Raphson method in order to obtain the values of lambda given in the document (it will be named lam)\n",
        "x0=0.001\n",
        "max_iter=20\n",
        "tolerance=0.000001\n",
        "\n",
        "# #Expression of the function to obtain the value of lambda\n",
        "# f=lambda lam:taup/2-(exp(-(lam+nu)*aG1S)/(lam+nu+1/taup))\n",
        "  \n",
        "# #Fist derivative of th previos function \n",
        "# Df=lambda lam:(exp(-(lam+nu)*aG1S)*(-aG1S*(lam+nu+1/taup)-1))/(lam+nu+1/taup)**2\n"
      ],
      "metadata": {
        "id": "ezgYdQAP1TL9"
      },
      "execution_count": 9,
      "outputs": []
    },
    {
      "cell_type": "code",
      "source": [
        "def newton_rapsi(c,am,nu):\n",
        "    #print('c',c)\n",
        "        if c>ccr and c<0.78:\n",
        "            aG1S=am*((c/ccr)-1)**(-beta)\n",
        "        #else: \n",
        "        #  aG1S=10000000\n",
        "            f=lambda lam:log(taup)-log(2)+lam*aG1S+nu*aG1S+log(lam+nu+1/taup)\n",
        "  \n",
        "    #Fist derivative of th previos function \n",
        "            Df=lambda lam: aG1S+1/(lam+nu+1/taup)\n",
        "    #tabla = []\n",
        "        \n",
        "            \n",
        "            section = abs(2*tolerance)\n",
        "            xi = x0\n",
        "            while (section>=tolerance):\n",
        "                xnew = xi - f(xi)/Df(xi)\n",
        "            #print('xi',xi)\n",
        "                section  = abs(xnew-xi)\n",
        "            #print('section',section)\n",
        "        #tabla.append([xi,xnew,section])\n",
        "                xi = xnew\n",
        "        elif c>0.78:\n",
        "           xi=ccr*c\n",
        "        else:\n",
        "            xi=-0.65\n",
        "        return xi\n",
        "#xi=newton_raps(c)\n"
      ],
      "metadata": {
        "id": "OGf-2o5m1Yfx"
      },
      "execution_count": 53,
      "outputs": []
    },
    {
      "cell_type": "code",
      "source": [
        "#spatial grid\n",
        "L=191\n",
        "dx=0.4819 #0.4819 #J/(L)\n",
        "J=dx*L\n",
        "#x_grid = np.array([l*dx for l in range(J)])\n",
        "x_grid=np.linspace(0,J,L)\n",
        "#L=np.size(x_grid)\n",
        "#time grid\n",
        "T=3 #3 #final time (3 days)\n",
        "N=1000 #300  #501  #NUMBER OF TIME STEPS\n",
        "dt=T/(N) #time step (it is almost every 130 secs. 2 minutes approximately)\n",
        "\n",
        "#t_grid = np.array([t*dt for t in range(N)])\n",
        "t_grid=np.linspace(0,T,N)\n",
        "#n=np.array(100 for k in range(L))\n",
        "#System parameters\n",
        "delta=dx**2/dt\n",
        "#2.446347282384288\n",
        "#111.86992687185797\n",
        "#18511.269877994026\n",
        "#D_n=4.07944 #2.446347282384288  #2.#*delta\n",
        "#D_c=109.02  #109.13154630#60 #*delta\n",
        "#sigma_u=D_n*dt/(dx**2)\n",
        "#sigma_v=D_c*dt/(dx**2)\n",
        "#k1=1.45773318\n",
        "k2=0.0942\n",
        "#c=0.1\n",
        "#beta_f=49.33  #THIS PARAMETER IS GIVEN, IT IS NOT NECESSARY TO ESTIMATE IT"
      ],
      "metadata": {
        "id": "T1qUp5nc1hav"
      },
      "execution_count": 44,
      "outputs": []
    },
    {
      "cell_type": "code",
      "source": [
        "cells=np.array([ 17.31407869,  17.32268991,  17.34843893,  17.39107387,\n",
        "        17.45018181,  17.5251988 ,  17.6154233 ,  17.72003246,\n",
        "        17.83810062,  17.96861937,  18.11051823,  18.26268536,\n",
        "        18.42398751,  18.59328849,  18.76946582,  18.95142476,\n",
        "        19.1381099 ,  19.32851361,  19.52168188,  19.7167172 ,\n",
        "        19.91277897,  20.10908175,  20.30489169,  20.49952157,\n",
        "        20.69232512,  20.88269086,  21.0700362 ,  21.25380195,\n",
        "        21.43344785,  21.60844929,  21.77829549,  21.9424892 ,\n",
        "        22.10054806,  22.25200749,  22.39642497,  22.5333856 ,\n",
        "        22.6625084 ,  22.7834534 ,  22.89592869,  22.99969737,\n",
        "        23.09458381,  23.18047892,  23.25734391,  23.32521251,\n",
        "        23.38419109,  23.43445685,  23.47625381,  23.50988681,\n",
        "        23.53571365,  23.55413561,  23.56558682,  23.57052287,\n",
        "        23.56940918,  23.56270962,  23.55087607,  23.53433922,\n",
        "        23.51350121,  23.48873039,  23.46035856,  23.42868065,\n",
        "        23.39395707,  23.35641838,  23.3162721 ,  23.27371137,\n",
        "        23.22892476,  23.18210687,  23.13346892,  23.08324895,\n",
        "        23.0317207 ,  22.97920094,  22.92605447,  22.87269671,\n",
        "        22.81959331,  22.76725699,  22.71624133,  22.66713196,\n",
        "        22.62053523,  22.5770649 ,  22.53732736,  22.50190596,\n",
        "        22.47134506,  22.44613455,  22.42669538,  22.41336686,\n",
        "        22.40639614,  22.40593056,  22.41201302,  22.42458099,\n",
        "        22.44346907,  22.46841545,  22.49907206,  22.53501855,\n",
        "        22.57577969,  22.62084618,  22.66969835,  22.72183251,\n",
        "        22.7767895 ,  22.83418495,  22.89374094,  22.95531829,\n",
        "        23.01894934,  23.08487045,  23.1535539 ,  23.2257387 ,\n",
        "        23.30245992,  23.38507604,  23.47529415,  23.57519257,\n",
        "        23.68724067,  23.81431577,  23.95971693,  24.12717561,\n",
        "        24.32086321,  24.54539584,  24.80583637,  25.10769465,\n",
        "        25.45692642,  25.85993189,  26.32355465,  26.85508038,\n",
        "        27.46223363,  28.15316841,  28.9364474 ,  29.8210077 ,\n",
        "        30.81612168,  31.93138363,  33.17678437,  34.56296668,\n",
        "        36.10176503,  37.8071011 ,  39.69622164,  41.79114131,\n",
        "        44.1200387 ,  46.71830685,  49.01115684,  51.0147216 ,\n",
        "        52.75090973,  54.24533995,  55.52525872,  56.6177785 ,\n",
        "        57.54862366,  58.34140829,  59.01735535,  59.59531727,\n",
        "        60.09196495,  60.52204678,  60.89865957,  61.23350366,\n",
        "        61.53711369,  61.81906446,  62.08815472,  62.35257134,\n",
        "        62.62003659,  62.89794077,  63.19346322,  63.51368584,\n",
        "        63.86570499,  64.25674954,  64.69431359,  65.18631085,\n",
        "        65.74125276,  66.36844458,  67.07818593,  67.88195792,\n",
        "        68.7677272 ,  69.74630269,  70.82975054,  72.03137956,\n",
        "        73.36569611,  74.84833167,  76.49593524,  78.32601236,\n",
        "        80.35668357,  82.60633004,  85.09309024,  87.83416742,\n",
        "        90.84490238,  94.13755811,  97.71975187, 101.59245681,\n",
        "       105.74747804, 110.16428872, 114.80609038, 119.61494256,\n",
        "       124.5057946 , 129.35926035, 134.01302575, 138.25190505,\n",
        "       141.79682577, 144.29351469, 145.302511  ])\n",
        "plt.plot(x_grid, cells,'o')\n",
        "plt.xlabel('x')\n",
        "plt.ylabel('n(x,0)')\n",
        "plt.show()"
      ],
      "metadata": {
        "colab": {
          "base_uri": "https://localhost:8080/",
          "height": 279
        },
        "id": "_9EmuQVJEaAf",
        "outputId": "aac3fcc0-a87c-4df7-8441-3bad1cab6f2c"
      },
      "execution_count": 34,
      "outputs": [
        {
          "output_type": "display_data",
          "data": {
            "text/plain": [
              "<Figure size 432x288 with 1 Axes>"
            ],
            "image/png": "[encoded data removed]"
          },
          "metadata": {
            "needs_background": "light"
          }
        }
      ]
    },
    {
      "cell_type": "code",
      "source": [
        "U = datos6 \n",
        "print(U)\n",
        "plt.plot(x_grid, U,'o')\n",
        "plt.xlabel('x')\n",
        "plt.ylabel('n(x,0)')\n",
        "plt.show()\n"
      ],
      "metadata": {
        "colab": {
          "base_uri": "https://localhost:8080/",
          "height": 672
        },
        "id": "-RL0xOEf1rA-",
        "outputId": "f9411405-3427-4276-e192-184a24062101"
      },
      "execution_count": 20,
      "outputs": [
        {
          "output_type": "stream",
          "name": "stdout",
          "text": [
            "[  9.363   9.363  10.17   10.179  10.179  10.179  10.179  10.179  10.179\n",
            "  10.179  10.179  10.847  11.81   11.81   11.81   11.81   11.81   11.81\n",
            "  11.81   11.81   11.811  11.81   11.81   11.81   11.81   11.811  11.81\n",
            "  11.81   11.81   11.811  11.81   12.091  12.625  12.625  12.625  12.625\n",
            "  13.097  13.441  13.989  14.256  14.881  15.072  15.072  15.811  15.887\n",
            "  15.887  15.072  15.148  15.887  15.887  16.078  16.703  16.437  16.192\n",
            "  16.703  17.084  17.519  17.976  18.334  18.334  18.334  18.334  18.334\n",
            "  18.334  18.334  19.858  19.965  19.92   18.334  18.334  18.334  18.685\n",
            "  19.965  19.965  19.965  20.293  21.147  21.596  21.596  21.596  21.596\n",
            "  21.596  22.191  23.678  24.043  24.752  24.859  24.859  24.859  24.859\n",
            "  24.943  25.674  25.835  26.688  27.305  27.855  28.937  28.586  28.121\n",
            "  28.548  29.867  31.575  32.199  31.619  31.383  32.039  32.199  32.199\n",
            "  30.658  31.376  32.292  34.645  34.645  34.645  35.013  36.277  35.757\n",
            "  34.645  34.982  35.835  37.101  38.358  38.235  37.908  37.908  38.511\n",
            "  39.364  39.539  39.539  40.294  39.561  41.174  41.224  42.17   43.878\n",
            "  45.248  45.248  45.248  45.531  46.384  47.837  49.584  51.012  51.772\n",
            "  52.796  54.503  55.035  55.035  54.37   53.517  54.144  54.998  56.668\n",
            "  58.336  59.112  59.228  60.235  61.751  62.605  63.726  64.515  63.662\n",
            "  63.19   64.452  67.537  70.435  73.486  74.608  73.997  75.741  76.239\n",
            "  77.691  78.634  81.092  83.701  87.907  91.423  95.688 100.31  106.34\n",
            " 112.39  117.51  120.26  121.31  123.13  125.25  125.99  124.95  126.37\n",
            " 129.92  131.52 ]\n"
          ]
        },
        {
          "output_type": "display_data",
          "data": {
            "text/plain": [
              "<Figure size 432x288 with 1 Axes>"
            ],
            "image/png": "[encoded data removed]"
          },
          "metadata": {
            "needs_background": "light"
          }
        }
      ]
    },
    {
      "cell_type": "code",
      "source": [
        "oxi=np.array([8.46832991e-07, 8.49345441e-07, 8.56900541e-07, 8.69551684e-07,\n",
        "       8.87388357e-07, 9.10536891e-07, 9.39161510e-07, 9.73465704e-07,\n",
        "       1.01369390e-06, 1.06013351e-06, 1.11311723e-06, 1.17302582e-06,\n",
        "       1.24029114e-06, 1.31539967e-06, 1.39889642e-06, 1.49138924e-06,\n",
        "       1.59355372e-06, 1.70613851e-06, 1.82997123e-06, 1.96596495e-06,\n",
        "       2.11512540e-06, 2.27855875e-06, 2.45748025e-06, 2.65322361e-06,\n",
        "       2.86725125e-06, 3.10116555e-06, 3.35672105e-06, 3.63583772e-06,\n",
        "       3.94061543e-06, 4.27334965e-06, 4.63654841e-06, 5.03295080e-06,\n",
        "       5.46554683e-06, 5.93759904e-06, 6.45266571e-06, 7.01462600e-06,\n",
        "       7.62770702e-06, 8.29651295e-06, 9.02605652e-06, 9.82179279e-06,\n",
        "       1.06896556e-05, 1.16360968e-05, 1.26681285e-05, 1.37933686e-05,\n",
        "       1.50200897e-05, 1.63572720e-05, 1.78146605e-05, 1.94028264e-05,\n",
        "       2.11332331e-05, 2.30183082e-05, 2.50715209e-05, 2.73074649e-05,\n",
        "       2.97419487e-05, 3.23920929e-05, 3.52764342e-05, 3.84150388e-05,\n",
        "       4.18296234e-05, 4.55436859e-05, 4.95826454e-05, 5.39739933e-05,\n",
        "       5.87474550e-05, 6.39351633e-05, 6.95718446e-05, 7.56950185e-05,\n",
        "       8.23452121e-05, 8.95661898e-05, 9.74052001e-05, 1.05913241e-04,\n",
        "       1.15145348e-04, 1.25160900e-04, 1.36023953e-04, 1.47803605e-04,\n",
        "       1.60574384e-04, 1.74416678e-04, 1.89417194e-04, 2.05669471e-04,\n",
        "       2.23274427e-04, 2.42340966e-04, 2.62986636e-04, 2.85338353e-04,\n",
        "       3.09533187e-04, 3.35719223e-04, 3.64056504e-04, 3.94718046e-04,\n",
        "       4.27890959e-04, 4.63777649e-04, 5.02597130e-04, 5.44586442e-04,\n",
        "       5.90002180e-04, 6.39122146e-04, 6.92247126e-04, 7.49702806e-04,\n",
        "       8.11841822e-04, 8.79045976e-04, 9.51728606e-04, 1.03033715e-03,\n",
        "       1.11535587e-03, 1.20730889e-03, 1.30676334e-03, 1.41433292e-03,\n",
        "       1.53068171e-03, 1.65652840e-03, 1.79265095e-03, 1.93989177e-03,\n",
        "       2.09916362e-03, 2.27145616e-03, 2.45784350e-03, 2.65949284e-03,\n",
        "       2.87767441e-03, 3.11377312e-03, 3.36930201e-03, 3.64591816e-03,\n",
        "       3.94544138e-03, 4.26987621e-03, 4.62143809e-03, 5.00258430e-03,\n",
        "       5.41605071e-03, 5.86489560e-03, 6.35255172e-03, 6.88288839e-03,\n",
        "       7.46028566e-03, 8.08972281e-03, 8.77688423e-03, 9.52828619e-03,\n",
        "       1.03514287e-02, 1.12549776e-02, 1.22489837e-02, 1.33451462e-02,\n",
        "       1.45571328e-02, 1.59009704e-02, 1.73955271e-02, 1.90631161e-02,\n",
        "       2.09302609e-02, 2.30286763e-02, 2.53965358e-02, 2.80760848e-02,\n",
        "       3.11142082e-02, 3.45631026e-02, 3.84810618e-02, 4.29333818e-02,\n",
        "       4.79933965e-02, 5.37436529e-02, 6.02772439e-02, 6.76993159e-02,\n",
        "       7.61287790e-02, 8.57002498e-02, 9.65662657e-02, 1.08899814e-01,\n",
        "       1.22897232e-01, 1.38781533e-01, 1.56806247e-01, 1.77259851e-01,\n",
        "       2.00470899e-01, 2.26813985e-01, 2.56716692e-01, 2.90667707e-01,\n",
        "       3.29226338e-01, 3.73033707e-01, 4.22825965e-01, 4.79449949e-01,\n",
        "       5.43881817e-01, 6.17249323e-01, 7.00858576e-01, 7.96226350e-01,\n",
        "       9.05119288e-01, 1.02959595e+00, 1.17206204e+00, 1.33533779e+00,\n",
        "       1.52274046e+00, 1.73818592e+00, 1.98631396e+00, 2.27264373e+00,\n",
        "       2.60376703e+00, 2.98758969e+00, 3.43363364e+00, 3.95341619e+00,\n",
        "       4.56092724e+00, 5.27323056e+00, 6.11122237e+00, 7.10058845e+00,\n",
        "       8.27301075e+00, 9.66768544e+00, 1.13332254e+01, 1.33300294e+01,\n",
        "       1.57332057e+01, 1.86361268e+01, 2.21546626e+01, 2.64320578e+01,\n",
        "       3.16442624e+01, 3.80052384e+01, 4.57712742e+01])"
      ],
      "metadata": {
        "id": "ptUGorO6C6Lo"
      },
      "execution_count": 24,
      "outputs": []
    },
    {
      "cell_type": "code",
      "source": [
        "plt.plot(x_grid, oxi,'o')\n",
        "plt.xlabel('x')\n",
        "plt.ylabel('c(x,0)')\n",
        "plt.show()"
      ],
      "metadata": {
        "colab": {
          "base_uri": "https://localhost:8080/",
          "height": 279
        },
        "id": "b7RoojfyDMpm",
        "outputId": "14b8de43-133c-4c1c-c5ac-86b9a57bbda7"
      },
      "execution_count": 25,
      "outputs": [
        {
          "output_type": "display_data",
          "data": {
            "text/plain": [
              "<Figure size 432x288 with 1 Axes>"
            ],
            "image/png": "[encoded data removed]"
          },
          "metadata": {
            "needs_background": "light"
          }
        }
      ]
    },
    {
      "cell_type": "code",
      "source": [
        "fu=lambda lamda_vect, Ui: lamda_vect*Ui\n",
        "\n",
        "#aux=np.zeros(L)\n",
        "#aux[-1]= 4*dx*beta_f*sigma_v\n",
        "#aux[0]= 4*dx*betaf*sigma_v\n",
        "g=lambda Ui,Vi,k1: -k1*(Ui*Vi)-k2*Vi   #+aux"
      ],
      "metadata": {
        "id": "FzPsbFiO1yzB"
      },
      "execution_count": 13,
      "outputs": []
    },
    {
      "cell_type": "code",
      "source": [
        "def crank_nic(fu,g,Dn,Dc,a_m,U,L,k1,betaf):\n",
        "    sigma_u=Dn*dt/(dx**2)\n",
        "    sigma_v=Dc*dt/(dx**2)\n",
        "    c_est=Dc*betaf/(L*(k1*np.mean(U)+k2))\n",
        "    aux=np.zeros(L)\n",
        "    aux[-1]= 4*dx*betaf*sigma_v\n",
        "    \n",
        "    V = oxi #np.array([c_est for i in range (0,L)])\n",
        "    aux=np.zeros(L)\n",
        "    aux[-1]= 4*dx*betaf*sigma_v\n",
        "    #Matrices for Crank Nicholson in equation of population of cells\n",
        "    A_n = np.diagflat([-sigma_u for i in range(L-2)]+[-2*sigma_u], -1) +\\\n",
        "      np.diagflat([2.+2.*sigma_u for i in range(L)]) +\\\n",
        "      np.diagflat([-2.*sigma_u]+[-sigma_u for i in range(L-2)], 1)\n",
        "    \n",
        "    B_n = np.diagflat([sigma_u for i in range(L-2)]+[2.*sigma_u], -1) +\\\n",
        "      np.diagflat([2.-2.*sigma_u for i in range(L)]) +\\\n",
        "      np.diagflat([2.*sigma_u]+[sigma_u for i in range(L-2)], 1)\n",
        "    #Matrices for Crank Nicholson in equation of oxygen\n",
        "    A_c = np.diagflat([-sigma_v for i in range(L-2)]+[-2*sigma_v], -1) +\\\n",
        "      np.diagflat([2.+2.*sigma_v for i in range(L)]) +\\\n",
        "      np.diagflat([-2.*sigma_v]+[-sigma_v for i in range(L-2)], 1)\n",
        "    \n",
        "    B_c = np.diagflat([sigma_v for i in range(L-2)]+[2.*sigma_v], -1) +\\\n",
        "      np.diagflat([2.-2.*sigma_v for i in range(L)]) +\\\n",
        "      np.diagflat([2.*sigma_v]+[sigma_v for i in range(L-2)], 1)\n",
        "    \n",
        "  \n",
        "    \n",
        "    for ti in range(1,N):\n",
        "        lamda_vect=np.zeros(L)\n",
        "        for i in range(L):\n",
        "            xi=newton_rapsi(V[i],a_m,nu)\n",
        "            lamda_vect[i]=xi #np.longfloat(xi)\n",
        "        #print('step',ti)\n",
        "        U_new = np.linalg.solve(A_n, (B_n @ U + dt*fu(lamda_vect,U)))\n",
        "        V_new = np.linalg.solve(A_c, (B_c@V +dt*g(U,V,k1)+aux))\n",
        "        lamda_vect=np.zeros(L)\n",
        "        V = V_new\n",
        "        #print(V_new)\n",
        "        #for i in range(L):\n",
        "        #    xi=newton_rapsi(V[i],a_m,nu)\n",
        "        #    lamda_vect[i]=np.longfloat(xi)\n",
        "        #print(lamda_vect)\n",
        "        U = U_new\n",
        "        #print(U_new)\n",
        "    #print(V_new)\n",
        "    return U,V "
      ],
      "metadata": {
        "id": "ROMS7xQX1z_J"
      },
      "execution_count": 39,
      "outputs": []
    },
    {
      "cell_type": "code",
      "source": [
        "from traitlets.traitlets import CRegExp\n",
        "plt.figure()\n",
        "plt.plot(x_grid,datosdia9)\n",
        "data2=np.array(crank_nic(fu,g,9.498282170234082,103.89180764534257, 28151.790141205438,U,L, 0.24070663341162185,19.451801766947774)).T\n",
        "plt.plot(x_grid,data2[:,0])\n",
        "plt.xlabel('x')\n",
        "plt.ylabel('n(x,T)')\n",
        "plt.show()\n"
      ],
      "metadata": {
        "colab": {
          "base_uri": "https://localhost:8080/",
          "height": 279
        },
        "id": "hzVWv0dQ2DJ3",
        "outputId": "cf884a84-94bf-4372-e1aa-c3fade3d441d"
      },
      "execution_count": 40,
      "outputs": [
        {
          "output_type": "display_data",
          "data": {
            "text/plain": [
              "<Figure size 432x288 with 1 Axes>"
            ],
            "image/png": "[encoded data removed]"
          },
          "metadata": {
            "needs_background": "light"
          }
        }
      ]
    },
    {
      "cell_type": "code",
      "source": [
        "euc_disti(data2[:,0],datosdia9)"
      ],
      "metadata": {
        "colab": {
          "base_uri": "https://localhost:8080/"
        },
        "id": "v1b5k8A-N6jk",
        "outputId": "5eaf2407-a4a7-402f-9953-d90efea4b41a"
      },
      "execution_count": 43,
      "outputs": [
        {
          "output_type": "execute_result",
          "data": {
            "text/plain": [
              "385.0690103603085"
            ]
          },
          "metadata": {},
          "execution_count": 43
        }
      ]
    },
    {
      "cell_type": "code",
      "source": [
        "plt.figure()\n",
        "plt.plot(x_grid,datosdia9)\n",
        "data3=np.array(crank_nic(fu,g,9.498282170234082,103.89180764534257, 28151.790141205438,cells,L, 0.24070663341162185,19.451801766947774)).T\n",
        "plt.plot(x_grid,data3[:,0])\n",
        "plt.xlabel('x')\n",
        "plt.ylabel('n(x,T)')\n",
        "plt.show()"
      ],
      "metadata": {
        "colab": {
          "base_uri": "https://localhost:8080/",
          "height": 279
        },
        "id": "EFBuRuTYOIm8",
        "outputId": "702fb37c-cc77-46be-b801-35019932f7dc"
      },
      "execution_count": 54,
      "outputs": [
        {
          "output_type": "display_data",
          "data": {
            "text/plain": [
              "<Figure size 432x288 with 1 Axes>"
            ],
            "image/png": "[encoded data removed]"
          },
          "metadata": {
            "needs_background": "light"
          }
        }
      ]
    },
    {
      "cell_type": "code",
      "source": [
        "euc_disti(data3[:,0],datosdia9)"
      ],
      "metadata": {
        "colab": {
          "base_uri": "https://localhost:8080/"
        },
        "id": "-M5MrU04PJvo",
        "outputId": "0497256b-095e-4313-dbef-c8e4520e5174"
      },
      "execution_count": 55,
      "outputs": [
        {
          "output_type": "execute_result",
          "data": {
            "text/plain": [
              "216.86360739570222"
            ]
          },
          "metadata": {},
          "execution_count": 55
        }
      ]
    },
    {
      "cell_type": "code",
      "source": [
        "data2[:,0]"
      ],
      "metadata": {
        "colab": {
          "base_uri": "https://localhost:8080/"
        },
        "id": "1rCXrpWICHWA",
        "outputId": "d4c5dd29-86a0-4efb-ac36-09acbbfdff57"
      },
      "execution_count": 18,
      "outputs": [
        {
          "output_type": "execute_result",
          "data": {
            "text/plain": [
              "array([ 12.9746518 ,  12.97686375,  12.98349029,  12.99450356,\n",
              "        13.00985729,  13.02948714,  13.05331103,  13.08122972,\n",
              "        13.11312735,  13.14887219,  13.18831743,  13.23130205,\n",
              "        13.27765179,  13.3271802 ,  13.3796897 ,  13.43497277,\n",
              "        13.49281312,  13.55298691,  13.61526404,  13.67940937,\n",
              "        13.74518407,  13.81234682,  13.88065515,  13.94986667,\n",
              "        14.01974025,  14.0900373 ,  14.16052286,  14.23096673,\n",
              "        14.30114451,  14.37083862,  14.43983923,  14.50794511,\n",
              "        14.57496447,  14.64071565,  14.7050278 ,  14.76774143,\n",
              "        14.82870897,  14.88779515,  14.94487736,  14.99984595,\n",
              "        15.05260438,  15.10306943,  15.1511712 ,  15.1968531 ,\n",
              "        15.24007182,  15.28079716,  15.31901185,  15.35471131,\n",
              "        15.38790332,  15.41860773,  15.44685601,  15.47269086,\n",
              "        15.49616575,  15.51734441,  15.53630033,  15.55311624,\n",
              "        15.56788351,  15.58070167,  15.59167777,  15.60092587,\n",
              "        15.60856646,  15.61472594,  15.61953605,  15.62313343,\n",
              "        15.62565908,  15.62725796,  15.62807858,  15.62827264,\n",
              "        15.62799472,  15.62740207,  15.62665438,  15.62591371,\n",
              "        15.62534442,  15.62511322,  15.62538932,  15.62634461,\n",
              "        15.62815399,  15.63099576,  15.63505214,  15.6405099 ,\n",
              "        15.64756103,  15.6564036 ,  15.66724267,  15.68029135,\n",
              "        15.69577194,  15.71391717,  15.73497158,  15.75919294,\n",
              "        15.78685388,  15.81824346,  15.85366895,  15.89345769,\n",
              "        15.93795892,  15.98754583,  16.04261757,  16.1036014 ,\n",
              "        16.17095484,  16.24516794,  16.32676555,  16.41630966,\n",
              "        16.51440182,  16.6216856 ,  16.73884909,  16.86662747,\n",
              "        17.00580568,  17.15722115,  17.3217666 ,  17.50039301,\n",
              "        17.69411268,  17.90400241,  18.13120698,  18.3769427 ,\n",
              "        18.64250131,  18.92925415,  19.23865665,  19.57225324,\n",
              "        19.93168265,  20.31868371,  20.73510167,  21.18289497,\n",
              "        21.66414259,  22.18105192,  22.73596712,  23.33137824,\n",
              "        23.96993116,  24.65443896,  25.38789547,  26.17349227,\n",
              "        27.01464082,  27.91500205,  28.87852566,  29.9095016 ,\n",
              "        31.0126241 ,  32.19306294,  33.45651974,  34.80920613,\n",
              "        36.2576067 ,  37.80782335,  39.46442217,  41.22933089,\n",
              "        43.10239642,  45.08532397,  47.18787093,  49.17150641,\n",
              "        51.05377471,  52.85384534,  54.58840225,  56.27099412,\n",
              "        57.9131084 ,  59.52532986,  61.1180179 ,  62.70157449,\n",
              "        64.28650291,  65.8833917 ,  67.50288446,  69.15565534,\n",
              "        70.85239397,  72.60379857,  74.42057444,  76.3134359 ,\n",
              "        78.29310945,  80.37033712,  82.55587882,  84.86051314,\n",
              "        87.29503591,  89.87025625,  92.59698943,  95.48604644,\n",
              "        98.54821975, 101.79426512, 105.21270687, 108.80956882,\n",
              "       112.58975847, 116.55676883, 120.71230337, 125.05580312,\n",
              "       129.5838486 , 134.28940119, 139.16083782, 144.18071895,\n",
              "       149.32421318, 154.55708033, 159.8330895 , 165.09071995,\n",
              "       170.24896164, 175.20200543, 179.81259925, 183.90386641,\n",
              "       187.24947055, 189.56222865, 190.48171641])"
            ]
          },
          "metadata": {},
          "execution_count": 18
        }
      ]
    },
    {
      "cell_type": "code",
      "source": [
        "def euc_dist(data1, data2):\n",
        "    if np.shape(data1) != np.shape(data2):\n",
        "        print (\"\\n the dimensions of the datasets are different (%s v.s. %s)\\n\" % (len(data1), len(data2)))\n",
        "        sys.exit()\n",
        "    else:\n",
        "        z=np.array((data1 - data2)**2)\n",
        "        distance = np.sum(z)\n",
        "        #print('dist',data1 - data2)\n",
        "\n",
        "    if distance < 0:\n",
        "        return [None]\n",
        "    elif np.isnan(distance):\n",
        "        distance=100000\n",
        "        return distance\n",
        "    else:\n",
        "        return distance"
      ],
      "metadata": {
        "id": "7haeE0gRDvUz"
      },
      "execution_count": null,
      "outputs": []
    },
    {
      "cell_type": "code",
      "source": [
        "def euc_disti(data1, data2):\n",
        "    if np.shape(data1) != np.shape(data2):\n",
        "        print (\"\\n the dimensions of the datasets are different (%s v.s. %s)\\n\" % (len(data1), len(data2)))\n",
        "        sys.exit()\n",
        "    else:\n",
        "        distance = np.linalg.norm(data1 - data2)\n",
        "        #print('dist',data1 - data2)\n",
        "\n",
        "    if distance < 0:\n",
        "        return [None]\n",
        "    else:\n",
        "        return distance"
      ],
      "metadata": {
        "id": "WamsMRoBDwfk"
      },
      "execution_count": 42,
      "outputs": []
    },
    {
      "cell_type": "code",
      "source": [
        "def prior():\n",
        "### Generate a random parameter inside the limits stablished. The shape of the distribution can be changed if required\n",
        "    prior = []\n",
        "    for ipar,par in enumerate(params_tumor):\n",
        "        prior.append(uniform.rvs(loc = par['lower_limit'],\n",
        "                                 scale = par['upper_limit']-par['lower_limit'])) #par['upper_limit']))\n",
        "        \n",
        "       \n",
        "    return prior"
      ],
      "metadata": {
        "id": "yjOEqiPUDzQU"
      },
      "execution_count": null,
      "outputs": []
    }
  ]
}